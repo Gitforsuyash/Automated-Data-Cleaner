{
 "cells": [
  {
   "cell_type": "code",
   "execution_count": null,
   "id": "f9061dcb",
   "metadata": {
    "vscode": {
     "languageId": "plaintext"
    }
   },
   "outputs": [],
   "source": [
    "import pandas as pd\n",
    "from src.cleaner import clean_dataset\n",
    "\n",
    "df = pd.read_csv(\"../data/sample_dirty_data.csv\")\n",
    "cleaned_df = clean_dataset(df)\n",
    "\n",
    "print(\"Before Cleaning:\")\n",
    "display(df)\n",
    "\n",
    "print(\"After Cleaning:\")\n",
    "display(cleaned_df)\n"
   ]
  }
 ],
 "metadata": {
  "language_info": {
   "name": "python"
  }
 },
 "nbformat": 4,
 "nbformat_minor": 5
}
